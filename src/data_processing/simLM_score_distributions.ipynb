{
 "cells": [
  {
   "cell_type": "code",
   "execution_count": 6,
   "metadata": {},
   "outputs": [],
   "source": [
    "import json\n",
    "from collections import defaultdict\n",
    "from tqdm import tqdm\n",
    "from typing import Dict, List, Tuple\n",
    "from transformers import AutoModelForSequenceClassification, AutoTokenizer, BatchEncoding, PreTrainedTokenizerFast\n",
    "from transformers.modeling_outputs import SequenceClassifierOutput\n",
    "import torch"
   ]
  },
  {
   "cell_type": "code",
   "execution_count": 7,
   "metadata": {},
   "outputs": [],
   "source": [
    "with open(\"/data/svashishtha/FAMuS/data/source_validation/train.jsonl\") as f:\n",
    "    train_source_val = [json.loads(line) for line in f.readlines()]\n",
    "\n",
    "with open(\"/data/svashishtha/FAMuS/data/source_validation/dev.jsonl\") as f:\n",
    "    dev_source_val = [json.loads(line) for line in f.readlines()]\n",
    "\n",
    "with open(\"/data/svashishtha/FAMuS/data/source_validation/test.jsonl\") as f:\n",
    "    test_source_val = [json.loads(line) for line in f.readlines()]"
   ]
  },
  {
   "cell_type": "code",
   "execution_count": 8,
   "metadata": {},
   "outputs": [
    {
     "data": {
      "text/plain": [
       "dict_keys(['instance_id', 'frame', 'report_dict', 'source_dict', 'valid_source', 'bool_generated'])"
      ]
     },
     "execution_count": 8,
     "metadata": {},
     "output_type": "execute_result"
    }
   ],
   "source": [
    "test_source_val[0].keys()"
   ]
  },
  {
   "cell_type": "code",
   "execution_count": 9,
   "metadata": {},
   "outputs": [
    {
     "data": {
      "text/plain": [
       "11"
      ]
     },
     "execution_count": 9,
     "metadata": {},
     "output_type": "execute_result"
    }
   ],
   "source": [
    "sum([1 for instance in test_source_val if instance['bool_generated']])"
   ]
  },
  {
   "cell_type": "code",
   "execution_count": 10,
   "metadata": {},
   "outputs": [],
   "source": [
    "tokenizer = AutoTokenizer.from_pretrained('intfloat/simlm-msmarco-reranker')\n",
    "model = AutoModelForSequenceClassification.from_pretrained('intfloat/simlm-msmarco-reranker')\n",
    "model.eval()\n",
    "model = model.to(f'cuda:2')"
   ]
  },
  {
   "cell_type": "code",
   "execution_count": 11,
   "metadata": {},
   "outputs": [],
   "source": [
    "def encode(tokenizer: PreTrainedTokenizerFast,\n",
    "           query: str, passage: str, title: str = '-') -> BatchEncoding:\n",
    "    return tokenizer(query,\n",
    "                     text_pair='{}: {}'.format(title, passage),\n",
    "                     max_length=512,\n",
    "                     padding=True,\n",
    "                     truncation=True,\n",
    "                     return_tensors='pt')\n",
    "\n",
    "\n",
    "def fetch_similarity(report_text, \n",
    "                     source_text,\n",
    "                     similarity_model=None,\n",
    "                     tokenizer=None,\n",
    "                     gpu=1):\n",
    "    with torch.no_grad():\n",
    "        encoding = encode(tokenizer, report_text, source_text).to(f'cuda:{gpu}')\n",
    "        output: SequenceClassifierOutput = similarity_model(**encoding)\n",
    "        return output.logits[0][0].item()"
   ]
  },
  {
   "cell_type": "markdown",
   "metadata": {},
   "source": [
    "## Positive Examples"
   ]
  },
  {
   "cell_type": "code",
   "execution_count": 12,
   "metadata": {},
   "outputs": [
    {
     "data": {
      "text/plain": [
       "dict_keys(['instance_id', 'frame', 'report_dict', 'source_dict', 'valid_source', 'bool_generated'])"
      ]
     },
     "execution_count": 12,
     "metadata": {},
     "output_type": "execute_result"
    }
   ],
   "source": [
    "train_source_val[0].keys()"
   ]
  },
  {
   "cell_type": "code",
   "execution_count": 19,
   "metadata": {},
   "outputs": [
    {
     "data": {
      "text/plain": [
       "(1012, 1012)"
      ]
     },
     "execution_count": 19,
     "metadata": {},
     "output_type": "execute_result"
    }
   ],
   "source": [
    "pos_instances = [instance for instance in train_source_val + dev_source_val\n",
    "                 if instance['valid_source']]\n",
    "neg_instances = [instance for instance in train_source_val + dev_source_val\n",
    "                    if not instance['valid_source']] \n",
    "    \n",
    "len(pos_instances), len(neg_instances)\n"
   ]
  },
  {
   "cell_type": "code",
   "execution_count": 20,
   "metadata": {},
   "outputs": [
    {
     "data": {
      "text/plain": [
       "dict_keys(['instance_id', 'frame', 'report_dict', 'source_dict', 'valid_source', 'bool_generated'])"
      ]
     },
     "execution_count": 20,
     "metadata": {},
     "output_type": "execute_result"
    }
   ],
   "source": [
    "pos_instances[0].keys()"
   ]
  },
  {
   "cell_type": "code",
   "execution_count": 21,
   "metadata": {},
   "outputs": [],
   "source": [
    "# pos_instances[0]['report_dict']['doctext']"
   ]
  },
  {
   "cell_type": "code",
   "execution_count": 22,
   "metadata": {},
   "outputs": [
    {
     "name": "stderr",
     "output_type": "stream",
     "text": [
      "100%|██████████| 1012/1012 [00:29<00:00, 34.68it/s]\n"
     ]
    }
   ],
   "source": [
    "pos_sim_scores =   []\n",
    "for instance in tqdm(pos_instances):\n",
    "    pos_sim_scores.append(fetch_similarity(instance['report_dict']['doctext'],\n",
    "                                            instance['source_dict']['doctext'],\n",
    "                                              model, \n",
    "                                            tokenizer, gpu=2))"
   ]
  },
  {
   "cell_type": "code",
   "execution_count": 29,
   "metadata": {},
   "outputs": [
    {
     "data": {
      "image/png": "[encoded data removed]",
      "text/plain": [
       "<Figure size 432x288 with 1 Axes>"
      ]
     },
     "metadata": {
      "needs_background": "light"
     },
     "output_type": "display_data"
    }
   ],
   "source": [
    "## Plot the distribution of similarity scores for positive instances\n",
    "import matplotlib.pyplot as plt\n",
    "\n",
    "plt.hist(pos_sim_scores, bins=100)\n",
    "plt.xlabel('Similarity Score between Report and Source')\n",
    "plt.ylabel('Frequency of Docs')\n",
    "plt.xlim(-9, 4)\n",
    "plt.title('SV (+) Instances (Train + Dev)')\n",
    "# Save the figure before plt.show(), with desired resolution and format.\n",
    "plt.savefig('histogram_simLM_positive_examples.png', format='png', dpi=300)\n",
    "plt.show()"
   ]
  },
  {
   "cell_type": "code",
   "execution_count": 26,
   "metadata": {},
   "outputs": [
    {
     "name": "stderr",
     "output_type": "stream",
     "text": [
      "100%|██████████| 1012/1012 [00:29<00:00, 34.45it/s]\n"
     ]
    }
   ],
   "source": [
    "neg_sim_scores =   []\n",
    "for instance in tqdm(neg_instances):\n",
    "    neg_sim_scores.append(fetch_similarity(instance['report_dict']['doctext'],\n",
    "                                            instance['source_dict']['doctext'],\n",
    "                                              model, \n",
    "                                            tokenizer, gpu=2))"
   ]
  },
  {
   "cell_type": "code",
   "execution_count": 28,
   "metadata": {},
   "outputs": [
    {
     "data": {
      "image/png": "[encoded data removed]",
      "text/plain": [
       "<Figure size 432x288 with 1 Axes>"
      ]
     },
     "metadata": {
      "needs_background": "light"
     },
     "output_type": "display_data"
    }
   ],
   "source": [
    "# Plot the distribution of similarity scores for negative instances\n",
    "plt.hist(neg_sim_scores, bins=100)\n",
    "plt.xlabel('Similarity Score between Report and Source')\n",
    "plt.ylabel('Frequency of Docs')\n",
    "plt.xlim(-9, 4)\n",
    "plt.title('SV (-) Instances (Train + Dev)')\n",
    "# Save the figure before plt.show(), with desired resolution and format.\n",
    "plt.savefig('histogram_simLM_negative_examples.png', format='png', dpi=300)\n",
    "plt.show()"
   ]
  },
  {
   "cell_type": "code",
   "execution_count": 31,
   "metadata": {},
   "outputs": [
    {
     "data": {
      "text/plain": [
       "dict_keys(['instance_id', 'frame', 'report_dict', 'source_dict', 'valid_source', 'bool_generated'])"
      ]
     },
     "execution_count": 31,
     "metadata": {},
     "output_type": "execute_result"
    }
   ],
   "source": [
    "instance.keys()"
   ]
  },
  {
   "cell_type": "code",
   "execution_count": 30,
   "metadata": {},
   "outputs": [],
   "source": [
    "## distrubution of gold neg examples\n",
    "gold_neg_instances = [instance for instance in train_source_val + dev_source_val\n",
    "                    if not instance['valid_source'] and not instance['bool_generated']]"
   ]
  },
  {
   "cell_type": "code",
   "execution_count": 31,
   "metadata": {},
   "outputs": [
    {
     "name": "stderr",
     "output_type": "stream",
     "text": [
      "100%|██████████| 472/472 [00:13<00:00, 35.35it/s]\n"
     ]
    }
   ],
   "source": [
    "neg_gold_sim_scores =   []\n",
    "for instance in tqdm(gold_neg_instances):\n",
    "    neg_gold_sim_scores.append(fetch_similarity(instance['report_dict']['doctext'],\n",
    "                                            instance['source_dict']['doctext'],\n",
    "                                              model, \n",
    "                                            tokenizer, gpu=2))"
   ]
  },
  {
   "cell_type": "code",
   "execution_count": 32,
   "metadata": {},
   "outputs": [
    {
     "data": {
      "image/png": "[encoded data removed]",
      "text/plain": [
       "<Figure size 432x288 with 1 Axes>"
      ]
     },
     "metadata": {
      "needs_background": "light"
     },
     "output_type": "display_data"
    }
   ],
   "source": [
    "# Plot the distribution of similarity scores for negative instances\n",
    "plt.hist(neg_gold_sim_scores, bins=100)\n",
    "plt.xlabel('Similarity Score between Report and Source')\n",
    "plt.ylabel('Frequency of Docs')\n",
    "plt.xlim(-9, 4)\n",
    "plt.title('Gold SV (-): (Train + Dev)')\n",
    "# Save the figure before plt.show(), with desired resolution and format.\n",
    "plt.savefig('histogram_simLM_gold_negative_examples.png', format='png', dpi=300)\n",
    "plt.show()\n"
   ]
  },
  {
   "cell_type": "code",
   "execution_count": 33,
   "metadata": {},
   "outputs": [
    {
     "name": "stderr",
     "output_type": "stream",
     "text": [
      "100%|██████████| 540/540 [00:15<00:00, 34.26it/s]\n"
     ]
    }
   ],
   "source": [
    "## distrubution of generated neg examples\n",
    "gen_neg_instances = [instance for instance in train_source_val + dev_source_val\n",
    "                    if not instance['valid_source'] and instance['bool_generated']]\n",
    "neg_gen_sim_scores =   []\n",
    "for instance in tqdm(gen_neg_instances):\n",
    "    neg_gen_sim_scores.append(fetch_similarity(instance['report_dict']['doctext'],\n",
    "                                            instance['source_dict']['doctext'],\n",
    "                                              model, \n",
    "                                            tokenizer, gpu=2))"
   ]
  },
  {
   "cell_type": "code",
   "execution_count": 34,
   "metadata": {},
   "outputs": [
    {
     "data": {
      "image/png": "[encoded data removed]",
      "text/plain": [
       "<Figure size 432x288 with 1 Axes>"
      ]
     },
     "metadata": {
      "needs_background": "light"
     },
     "output_type": "display_data"
    }
   ],
   "source": [
    "# Plot the distribution of similarity scores for negative instances\n",
    "plt.hist(neg_gen_sim_scores, bins=100)\n",
    "plt.xlabel('Similarity Score between Report and Source')\n",
    "plt.ylabel('Frequency of Docs')\n",
    "plt.xlim(-9, 4)\n",
    "plt.title('Silver SV (-): (Train + Dev)')\n",
    "# Save the figure before plt.show(), with desired resolution and format.\n",
    "plt.savefig('histogram_simLM_silver_negative_examples.png', format='png', dpi=300)\n",
    "plt.show()\n"
   ]
  }
 ],
 "metadata": {
  "kernelspec": {
   "display_name": "spanf",
   "language": "python",
   "name": "python3"
  },
  "language_info": {
   "codemirror_mode": {
    "name": "ipython",
    "version": 3
   },
   "file_extension": ".py",
   "mimetype": "text/x-python",
   "name": "python",
   "nbconvert_exporter": "python",
   "pygments_lexer": "ipython3",
   "version": "3.8.12"
  },
  "orig_nbformat": 4,
  "vscode": {
   "interpreter": {
    "hash": "1b849088bd6b4538800a0abd4969be6eb2530ccf0e458e421892367f4b1972ea"
   }
  }
 },
 "nbformat": 4,
 "nbformat_minor": 2
}
